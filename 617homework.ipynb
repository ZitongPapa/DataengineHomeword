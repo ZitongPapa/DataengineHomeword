{
 "cells": [
  {
   "cell_type": "code",
   "execution_count": 128,
   "metadata": {},
   "outputs": [],
   "source": [
    "import requests\n",
    "from bs4 import BeautifulSoup\n",
    "import time\n",
    "import random\n",
    "import csv"
   ]
  },
  {
   "cell_type": "code",
   "execution_count": 132,
   "metadata": {},
   "outputs": [],
   "source": [
    "# 设定需要爬取的总页数 当前网站总页数为10441\n",
    "MaxPage=10"
   ]
  },
  {
   "cell_type": "code",
   "execution_count": 91,
   "metadata": {},
   "outputs": [],
   "source": [
    "# 输入页数，获取表格element\n",
    "def get_table(pageNr):\n",
    "    # 网页地址\n",
    "    url='http://www.12365auto.com/zlts/0-0-0-0-0-0_0-0-0-0-0-0-0-%s.shtml'%pageNr\n",
    "\n",
    "    # 获取网页内容\n",
    "    webData=requests.get(url)\n",
    "\n",
    "    # BeautifulSoup梳理\n",
    "    soup=BeautifulSoup(wb.text)\n",
    "\n",
    "    dataTable=soup.select('div > table')[0]\n",
    "    \n",
    "    return dataTable"
   ]
  },
  {
   "cell_type": "code",
   "execution_count": 92,
   "metadata": {},
   "outputs": [],
   "source": [
    "# 获取表格字段名称 任选一页网页爬取表头\n",
    "def get_tablehead():\n",
    "    ths=get_table(1).select('th')\n",
    "    return [x.text for x in ths]"
   ]
  },
  {
   "cell_type": "code",
   "execution_count": 94,
   "metadata": {},
   "outputs": [
    {
     "data": {
      "text/plain": [
       "['投诉编号', '投诉品牌', '投诉车系', '投诉车型', '问题简述', '典型问题', '投诉时间', '投诉状态']"
      ]
     },
     "execution_count": 94,
     "metadata": {},
     "output_type": "execute_result"
    }
   ],
   "source": [
    "# 表头示例\n",
    "tableHead=get_tablehead()\n",
    "tableHead"
   ]
  },
  {
   "cell_type": "code",
   "execution_count": 84,
   "metadata": {},
   "outputs": [],
   "source": [
    "# 输入表格element 获取表格内容\n",
    "def get_tablecontent(table):\n",
    "    L=[]\n",
    "    tds=table.select('td')\n",
    "    for i in range(0,size,8):\n",
    "        L.append([y.text for y in y[i:i+8]])\n",
    "    return L"
   ]
  },
  {
   "cell_type": "code",
   "execution_count": 88,
   "metadata": {},
   "outputs": [
    {
     "data": {
      "text/plain": [
       "[['73',\n",
       "  '上汽通用别克',\n",
       "  '凯越',\n",
       "  '2008款 1.8 自动 LE Navi',\n",
       "  '别克凯越抖动异响问题多维修站称查不出原因',\n",
       "  'A9,A24,',\n",
       "  '2010-04-21',\n",
       "  '信息审核'],\n",
       " ['72',\n",
       "  '长安马自达',\n",
       "  '马自达3',\n",
       "  '2007款 1.6L  手动 标准型',\n",
       "  '长安马自达3前轮胎偏磨严重车主质疑是通病',\n",
       "  'G245,',\n",
       "  '2010-04-15',\n",
       "  '信息审核'],\n",
       " ['71',\n",
       "  '一汽-大众',\n",
       "  '高尔夫',\n",
       "  '2010款 1.4TSI 自动 舒适型',\n",
       "  '高尔夫坡路行驶时溜车4S店称无故障',\n",
       "  'A160,',\n",
       "  '2010-04-15',\n",
       "  '信息审核'],\n",
       " ['70',\n",
       "  '奇瑞汽车',\n",
       "  '奇瑞A1',\n",
       "  '2009款 1.3 手动 舒适型',\n",
       "  '奇瑞A1导雨槽漏水发动机雨天像“洗澡”',\n",
       "  'H109,',\n",
       "  '2010-04-15',\n",
       "  '信息审核'],\n",
       " ['69',\n",
       "  '一汽海马',\n",
       "  '海福星',\n",
       "  '2009款 1.6L 舒适GLX',\n",
       "  '海马海福星排气管异响更换后还未解决',\n",
       "  'H31,',\n",
       "  '2010-04-15',\n",
       "  '信息审核'],\n",
       " ['68',\n",
       "  '长安沃尔沃',\n",
       "  '沃尔沃S80L',\n",
       "  '2009款 2.5T 智尊版',\n",
       "  '沃尔沃S80L新车问题多30余次维修未解决',\n",
       "  'D80,F10,H72,',\n",
       "  '2010-04-15',\n",
       "  '信息审核'],\n",
       " ['67',\n",
       "  '奇瑞汽车',\n",
       "  '奇瑞A3',\n",
       "  '2008款 1.6 手动 标准型 三厢',\n",
       "  '奇瑞A3两后轮内侧严重磨损磨偏',\n",
       "  'G245,',\n",
       "  '2010-04-15',\n",
       "  '信息审核'],\n",
       " ['66',\n",
       "  '东风日产',\n",
       "  '骊威',\n",
       "  '2010款 1.6GX 手动 劲锐版标准型',\n",
       "  '东风日产骊威怠速时变速箱异响4S店称是通病',\n",
       "  'B33,',\n",
       "  '2010-04-15',\n",
       "  '信息审核'],\n",
       " ['65',\n",
       "  '华晨中华',\n",
       "  '中华骏捷FRV',\n",
       "  '2008款 1.3  手动 豪华型',\n",
       "  '中华骏捷FRV前挡风玻璃自然开裂',\n",
       "  'H113,',\n",
       "  '2010-04-15',\n",
       "  '信息审核'],\n",
       " ['64',\n",
       "  '上汽通用雪佛兰',\n",
       "  '科鲁兹',\n",
       "  '2009款 1.6 SE 自动',\n",
       "  '雪佛兰科鲁兹加油门有金属撞击声',\n",
       "  'A9,',\n",
       "  '2010-04-15',\n",
       "  '信息审核'],\n",
       " ['63',\n",
       "  '宝马（进口）',\n",
       "  '宝马7系',\n",
       "  '2009款 740Li 3.0T 自动 领先型',\n",
       "  '宝马7系油泵故障和前右轮轴承异响',\n",
       "  'G125,',\n",
       "  '2010-04-15',\n",
       "  '信息审核'],\n",
       " ['62',\n",
       "  '长安凯程',\n",
       "  '长安之星',\n",
       "  '2008款 1.0L 长安之星2 SC6382',\n",
       "  '长安之星刹车失灵酿事故维修站敷衍了事',\n",
       "  'E29,',\n",
       "  '2010-04-15',\n",
       "  '信息审核'],\n",
       " ['61',\n",
       "  '众泰汽车',\n",
       "  '众泰5008',\n",
       "  '2008款 1.3 手动 时尚性',\n",
       "  '众泰5008车辆异响变速箱漏油',\n",
       "  'B22,H15,',\n",
       "  '2010-04-15',\n",
       "  '信息审核'],\n",
       " ['60',\n",
       "  '上汽通用雪佛兰',\n",
       "  '景程',\n",
       "  '2010款 1.8 手动 SX豪华版 新景程',\n",
       "  '雪佛兰景程方向盘怠速抖动及变速箱异响',\n",
       "  'B33,D80,',\n",
       "  '2010-04-15',\n",
       "  '厂家受理']]"
      ]
     },
     "execution_count": 88,
     "metadata": {},
     "output_type": "execute_result"
    }
   ],
   "source": [
    "# 示例\n",
    "get_tablecontent(table(2))"
   ]
  },
  {
   "cell_type": "code",
   "execution_count": 124,
   "metadata": {},
   "outputs": [],
   "source": [
    "# 分页爬取，每一页内容为2维list，通过extend将所有页的list合并，最后增加表头，得到最终结果的list\n",
    "complaintInfo=[]\n",
    "for i in range(MaxPage):\n",
    "    table=get_table(i)\n",
    "    tr=get_tablecontent(table)\n",
    "#     设置爬取随机时间间隔，防反爬\n",
    "#     time.sleep(random.randint(1,5))\n",
    "    complaintInfo.extend(tr)\n",
    "complaintInfo.insert(0,tableHead)   "
   ]
  },
  {
   "cell_type": "code",
   "execution_count": 130,
   "metadata": {},
   "outputs": [],
   "source": [
    "# 将带字段名的list写入csv\n",
    "def list2csv(lst_name,csv_name):\n",
    "    with open(csv_name,'w',newline='') as f:\n",
    "        csvfile=csv.writer(f)\n",
    "        csvfile.writerows(lst_name)"
   ]
  },
  {
   "cell_type": "code",
   "execution_count": 131,
   "metadata": {},
   "outputs": [],
   "source": [
    "list2csv(complaintInfo,'12365.csv')"
   ]
  }
 ],
 "metadata": {
  "kernelspec": {
   "display_name": "Python 3",
   "language": "python",
   "name": "python3"
  },
  "language_info": {
   "codemirror_mode": {
    "name": "ipython",
    "version": 3
   },
   "file_extension": ".py",
   "mimetype": "text/x-python",
   "name": "python",
   "nbconvert_exporter": "python",
   "pygments_lexer": "ipython3",
   "version": "3.7.1"
  }
 },
 "nbformat": 4,
 "nbformat_minor": 2
}
