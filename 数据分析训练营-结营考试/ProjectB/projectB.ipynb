{
 "cells": [
  {
   "cell_type": "markdown",
   "metadata": {},
   "source": [
    "## 数据清洗与准备"
   ]
  },
  {
   "cell_type": "code",
   "execution_count": 47,
   "metadata": {
    "scrolled": true
   },
   "outputs": [],
   "source": [
    "import pandas as pd\n",
    "data=pd.read_csv('订单表.csv',encoding='gbk')\n",
    "# 以订单日期+客户ID为联合索引  每个客户同一日期的订单更有意义\n",
    "data['订单日期+客户ID']=data['订单日期'].astype('str')+data['客户ID'].astype('str')\n",
    "orders_series = data.set_index('订单日期+客户ID')['产品名称']\n",
    "# 排序\n",
    "orders_series.sort_index(inplace=True)\n",
    "transactions = []\n",
    "# 首位ID为11000\n",
    "temp_index = 10999\n",
    "# 将每个客户ID对应的产品归置一行\n",
    "for i, v in orders_series.items():\n",
    "    if i != temp_index:\n",
    "        temp_set = set()\n",
    "        temp_index = i\n",
    "        temp_set.add(v)\n",
    "        transactions.append(temp_set)\n",
    "    else:\n",
    "        temp_set.add(v)"
   ]
  },
  {
   "cell_type": "markdown",
   "metadata": {},
   "source": [
    "## 1. efficient_aprior"
   ]
  },
  {
   "cell_type": "code",
   "execution_count": 77,
   "metadata": {},
   "outputs": [
    {
     "name": "stdout",
     "output_type": "stream",
     "text": [
      "频繁项集： {1: {('公路自行车',): 8068, ('山地自行车',): 4970, ('车胎和内胎',): 9844, ('头盔',): 6439, ('水壶和水壶架',): 4767, ('骑行服',): 3332, ('手套',): 1430, ('挡泥板',): 2121, ('帽子',): 2190, ('清洁剂',): 908, ('短裤',): 1019, ('旅行自行车',): 2167}, 2: {('头盔', '车胎和内胎'): 2769, ('山地自行车', '水壶和水壶架'): 948, ('山地自行车', '挡泥板'): 898, ('头盔', '水壶和水壶架'): 1203, ('公路自行车', '水壶和水壶架'): 986, ('公路自行车', '头盔'): 1353, ('公路自行车', '车胎和内胎'): 909, ('山地自行车', '车胎和内胎'): 910, ('头盔', '旅行自行车'): 893, ('头盔', '山地自行车'): 934}}\n",
      "\n",
      "\n",
      "关联规则： [{头盔} -> {车胎和内胎}, {挡泥板} -> {山地自行车}, {旅行自行车} -> {头盔}]\n"
     ]
    }
   ],
   "source": [
    "from efficient_apriori import apriori\n",
    "itemsets, rules = apriori(transactions, min_support=0.03, min_confidence=0.4)\n",
    "print('频繁项集：', itemsets)\n",
    "print('\\n')\n",
    "print('关联规则：', rules)"
   ]
  },
  {
   "cell_type": "markdown",
   "metadata": {},
   "source": [
    "## 2. mlxtend"
   ]
  },
  {
   "cell_type": "code",
   "execution_count": 27,
   "metadata": {},
   "outputs": [],
   "source": [
    "#  传入模型的数据需要满足特定的格式，转换为bool值\n",
    "from mlxtend.preprocessing import TransactionEncoder#\n",
    "te = TransactionEncoder()\n",
    "df_tf = te.fit_transform(transactions)\n",
    "# 将 True、False 转换为 0、1 \n",
    "df_01 = df_tf.astype('int')\n",
    "encoded_df= pd.DataFrame(df_01,columns=te.columns_)"
   ]
  },
  {
   "cell_type": "code",
   "execution_count": 69,
   "metadata": {},
   "outputs": [
    {
     "name": "stdout",
     "output_type": "stream",
     "text": [
      "频繁项集：      support         itemsets\n",
      "10  0.356434          (车胎和内胎)\n",
      "0   0.292128          (公路自行车)\n",
      "1   0.233145             (头盔)\n",
      "2   0.179955          (山地自行车)\n",
      "7   0.172605         (水壶和水壶架)\n",
      "11  0.120646            (骑行服)\n",
      "18  0.100261      (车胎和内胎, 头盔)\n",
      "3   0.079296             (帽子)\n",
      "6   0.078463          (旅行自行车)\n",
      "5   0.076798            (挡泥板)\n",
      "4   0.051778             (手套)\n",
      "12  0.048990      (公路自行车, 头盔)\n",
      "17  0.043559     (水壶和水壶架, 头盔)\n",
      "9   0.036896             (短裤)\n",
      "13  0.035701  (公路自行车, 水壶和水壶架)\n",
      "20  0.034325  (水壶和水壶架, 山地自行车)\n",
      "15  0.033819      (山地自行车, 头盔)\n",
      "21  0.032950   (山地自行车, 车胎和内胎)\n",
      "14  0.032913   (公路自行车, 车胎和内胎)\n",
      "8   0.032877            (清洁剂)\n",
      "19  0.032515     (山地自行车, 挡泥板)\n",
      "16  0.032334      (头盔, 旅行自行车)\n",
      "关联规则：   antecedents consequents  antecedent support  consequent support   support  \\\n",
      "0     (山地自行车)       (挡泥板)            0.179955            0.076798  0.032515   \n",
      "1       (挡泥板)     (山地自行车)            0.076798            0.179955  0.032515   \n",
      "2        (头盔)     (旅行自行车)            0.233145            0.078463  0.032334   \n",
      "3     (旅行自行车)        (头盔)            0.078463            0.233145  0.032334   \n",
      "\n",
      "   confidence      lift  leverage  conviction  \n",
      "0    0.180684  2.352727  0.018695    1.126796  \n",
      "1    0.423385  2.352727  0.018695    1.422171  \n",
      "2    0.138686  1.767528  0.014041    1.069920  \n",
      "3    0.412090  1.767528  0.014041    1.304376  \n"
     ]
    }
   ],
   "source": [
    "from mlxtend.frequent_patterns import apriori\n",
    "from mlxtend.frequent_patterns import association_rules\n",
    "frequent_itemsets = apriori(encoded_df, min_support=0.03, use_colnames=True)\n",
    "frequent_itemsets = frequent_itemsets.sort_values(by='support',ascending=False)\n",
    "rules = association_rules(frequent_itemsets, metric=\"lift\", min_threshold=1.3)\n",
    "rules= rules.sort_values(by='lift',ascending=False)\n",
    "print(\"频繁项集：\", frequent_itemsets)\n",
    "print(\"关联规则：\", rules)"
   ]
  }
 ],
 "metadata": {
  "kernelspec": {
   "display_name": "Python 3",
   "language": "python",
   "name": "python3"
  },
  "language_info": {
   "codemirror_mode": {
    "name": "ipython",
    "version": 3
   },
   "file_extension": ".py",
   "mimetype": "text/x-python",
   "name": "python",
   "nbconvert_exporter": "python",
   "pygments_lexer": "ipython3",
   "version": "3.7.1"
  }
 },
 "nbformat": 4,
 "nbformat_minor": 2
}
