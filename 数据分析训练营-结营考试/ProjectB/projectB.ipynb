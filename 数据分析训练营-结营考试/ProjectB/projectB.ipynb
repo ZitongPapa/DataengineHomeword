{
 "cells": [
  {
   "cell_type": "markdown",
   "metadata": {},
   "source": [
    "## 数据清洗与准备"
   ]
  },
  {
   "cell_type": "code",
   "execution_count": 111,
   "metadata": {},
   "outputs": [],
   "source": [
    "import pandas as pd\n",
    "data=pd.read_csv('订单表.csv',encoding='gbk')\n",
    "data.head()\n",
    "\n",
    "orders_series = data.set_index('客户ID')['产品名称']\n",
    "# 按客户ID排序\n",
    "orders_series.sort_index(inplace=True)\n",
    "\n",
    "transactions = []\n",
    "# 首位ID为11000\n",
    "temp_index = 10999\n",
    "# 将每个客户ID对应的产品归置一行\n",
    "for i, v in orders_series.items():\n",
    "    if i != temp_index:\n",
    "        temp_set = set()\n",
    "        temp_index = i\n",
    "        temp_set.add(v)\n",
    "        transactions.append(temp_set)\n",
    "    else:\n",
    "        temp_set.add(v)"
   ]
  },
  {
   "cell_type": "markdown",
   "metadata": {},
   "source": [
    "## 1. efficient_aprior"
   ]
  },
  {
   "cell_type": "code",
   "execution_count": 120,
   "metadata": {},
   "outputs": [
    {
     "name": "stdout",
     "output_type": "stream",
     "text": [
      "频繁项集： {1: {('骑行服',): 3192, ('山地自行车',): 4089, ('头盔',): 5960, ('车胎和内胎',): 8490, ('旅行自行车',): 2143, ('挡泥板',): 2110, ('帽子',): 2132, ('公路自行车',): 6397, ('水壶和水壶架',): 4548, ('手套',): 1376, ('短裤',): 1019, ('袜子',): 559, ('水袋背包',): 719, ('清洁剂',): 875, ('背心',): 557}, 2: {('头盔', '山地自行车'): 1388, ('头盔', '挡泥板'): 742, ('头盔', '旅行自行车'): 1058, ('头盔', '车胎和内胎'): 2921, ('头盔', '骑行服'): 923, ('山地自行车', '挡泥板'): 898, ('山地自行车', '旅行自行车'): 1246, ('山地自行车', '车胎和内胎'): 1107, ('山地自行车', '骑行服'): 679, ('挡泥板', '车胎和内胎'): 723, ('车胎和内胎', '骑行服'): 1150, ('公路自行车', '头盔'): 2051, ('公路自行车', '山地自行车'): 2053, ('公路自行车', '帽子'): 673, ('公路自行车', '水壶和水壶架'): 1590, ('公路自行车', '骑行服'): 1154, ('头盔', '帽子'): 678, ('头盔', '水壶和水壶架'): 1453, ('山地自行车', '水壶和水壶架'): 1246, ('帽子', '水壶和水壶架'): 746, ('帽子', '骑行服'): 689, ('水壶和水壶架', '骑行服'): 774, ('帽子', '车胎和内胎'): 760, ('旅行自行车', '水壶和水壶架'): 780, ('水壶和水壶架', '车胎和内胎'): 812, ('头盔', '手套'): 687, ('手套', '车胎和内胎'): 677, ('公路自行车', '车胎和内胎'): 1450}, 3: {('头盔', '山地自行车', '旅行自行车'): 677, ('公路自行车', '头盔', '山地自行车'): 726, ('公路自行车', '山地自行车', '水壶和水壶架'): 629, ('公路自行车', '山地自行车', '车胎和内胎'): 580}}\n",
      "\n",
      "\n",
      "关联规则： [{旅行自行车} -> {山地自行车}, {山地自行车} -> {公路自行车}, {山地自行车, 旅行自行车} -> {头盔}, {头盔, 旅行自行车} -> {山地自行车}, {头盔, 山地自行车} -> {公路自行车}, {山地自行车, 水壶和水壶架} -> {公路自行车}, {山地自行车, 车胎和内胎} -> {公路自行车}]\n"
     ]
    }
   ],
   "source": [
    "from efficient_apriori import apriori\n",
    "itemsets, rules = apriori(transactions, min_support=0.03, min_confidence=0.5)\n",
    "print('频繁项集：', itemsets)\n",
    "print('\\n')\n",
    "print('关联规则：', rules)"
   ]
  },
  {
   "cell_type": "markdown",
   "metadata": {},
   "source": [
    "## 2. mlxtend"
   ]
  },
  {
   "cell_type": "code",
   "execution_count": 47,
   "metadata": {},
   "outputs": [],
   "source": [
    "#  传入模型的数据需要满足特定的格式，转换为bool值\n",
    "from mlxtend.preprocessing import TransactionEncoder#\n",
    "te = TransactionEncoder()\n",
    "df_tf = te.fit_transform(transactions)\n",
    "# 将 True、False 转换为 0、1 \n",
    "df_01 = df_tf.astype('int')\n",
    "encoded_df= pd.DataFrame(df_01,columns=te.columns_)"
   ]
  },
  {
   "cell_type": "code",
   "execution_count": 94,
   "metadata": {},
   "outputs": [
    {
     "name": "stdout",
     "output_type": "stream",
     "text": [
      "频繁项集：      support         itemsets\n",
      "9   0.459316          (车胎和内胎)\n",
      "0   0.346083          (公路自行车)\n",
      "1   0.322441             (头盔)\n",
      "7   0.246051         (水壶和水壶架)\n",
      "2   0.221218          (山地自行车)\n",
      "10  0.172690            (骑行服)\n",
      "19  0.158029      (头盔, 车胎和内胎)\n",
      "6   0.115938          (旅行自行车)\n",
      "3   0.115343             (帽子)\n",
      "5   0.114153            (挡泥板)\n",
      "12  0.111069   (山地自行车, 公路自行车)\n",
      "11  0.110961      (头盔, 公路自行车)\n",
      "13  0.086020  (水壶和水壶架, 公路自行车)\n",
      "18  0.078609     (头盔, 水壶和水壶架)\n",
      "14  0.078446   (车胎和内胎, 公路自行车)\n",
      "16  0.075092      (山地自行车, 头盔)\n",
      "4   0.074443             (手套)\n",
      "20  0.067410   (山地自行车, 旅行自行车)\n",
      "21  0.067410  (山地自行车, 水壶和水壶架)\n",
      "15  0.062432     (骑行服, 公路自行车)\n",
      "23  0.062216     (骑行服, 车胎和内胎)\n",
      "22  0.059890   (山地自行车, 车胎和内胎)\n",
      "17  0.057239      (头盔, 旅行自行车)\n",
      "8   0.055129             (短裤)\n",
      "关联规则：    antecedents consequents  antecedent support  consequent support   support  \\\n",
      "9      (旅行自行车)     (山地自行车)            0.115938            0.221218  0.067410   \n",
      "8      (山地自行车)     (旅行自行车)            0.221218            0.115938  0.067410   \n",
      "14        (头盔)     (旅行自行车)            0.322441            0.115938  0.057239   \n",
      "15     (旅行自行车)        (头盔)            0.115938            0.322441  0.057239   \n",
      "2      (山地自行车)     (公路自行车)            0.221218            0.346083  0.111069   \n",
      "3      (公路自行车)     (山地自行车)            0.346083            0.221218  0.111069   \n",
      "10     (山地自行车)    (水壶和水壶架)            0.221218            0.246051  0.067410   \n",
      "11    (水壶和水壶架)     (山地自行车)            0.246051            0.221218  0.067410   \n",
      "0         (头盔)     (车胎和内胎)            0.322441            0.459316  0.158029   \n",
      "1      (车胎和内胎)        (头盔)            0.459316            0.322441  0.158029   \n",
      "6      (山地自行车)        (头盔)            0.221218            0.322441  0.075092   \n",
      "7         (头盔)     (山地自行车)            0.322441            0.221218  0.075092   \n",
      "12       (骑行服)     (公路自行车)            0.172690            0.346083  0.062432   \n",
      "13     (公路自行车)       (骑行服)            0.346083            0.172690  0.062432   \n",
      "4     (水壶和水壶架)     (公路自行车)            0.246051            0.346083  0.086020   \n",
      "5      (公路自行车)    (水壶和水壶架)            0.346083            0.246051  0.086020   \n",
      "\n",
      "    confidence      lift  leverage  conviction  \n",
      "9     0.581428  2.628299  0.041762    1.860568  \n",
      "8     0.304720  2.628299  0.041762    1.271519  \n",
      "14    0.177517  1.531134  0.019855    1.074869  \n",
      "15    0.493700  1.531134  0.019855    1.338257  \n",
      "2     0.502079  1.450746  0.034509    1.313294  \n",
      "3     0.320932  1.450746  0.034509    1.146838  \n",
      "10    0.304720  1.238444  0.012979    1.084382  \n",
      "11    0.273967  1.238444  0.012979    1.072653  \n",
      "0     0.490101  1.067022  0.009926    1.060374  \n",
      "1     0.344052  1.067022  0.009926    1.032946  \n",
      "6     0.339447  1.052742  0.003762    1.025746  \n",
      "7     0.232886  1.052742  0.003762    1.015210  \n",
      "12    0.361529  1.044630  0.002667    1.024192  \n",
      "13    0.180397  1.044630  0.002667    1.009404  \n",
      "4     0.349604  1.010174  0.000866    1.005414  \n",
      "5     0.248554  1.010174  0.000866    1.003331  \n"
     ]
    }
   ],
   "source": [
    "from mlxtend.frequent_patterns import apriori\n",
    "from mlxtend.frequent_patterns import association_rules\n",
    "frequent_itemsets = apriori(encoded_df, min_support=0.05, use_colnames=True)\n",
    "frequent_itemsets = frequent_itemsets.sort_values(by='support',ascending=False)\n",
    "rules = association_rules(frequent_itemsets, metric=\"lift\", min_threshold=1)\n",
    "rules= rules.sort_values(by='lift',ascending=False)\n",
    "print(\"频繁项集：\", frequent_itemsets)\n",
    "print(\"关联规则：\", rules)"
   ]
  }
 ],
 "metadata": {
  "kernelspec": {
   "display_name": "Python 3",
   "language": "python",
   "name": "python3"
  },
  "language_info": {
   "codemirror_mode": {
    "name": "ipython",
    "version": 3
   },
   "file_extension": ".py",
   "mimetype": "text/x-python",
   "name": "python",
   "nbconvert_exporter": "python",
   "pygments_lexer": "ipython3",
   "version": "3.7.1"
  }
 },
 "nbformat": 4,
 "nbformat_minor": 2
}
